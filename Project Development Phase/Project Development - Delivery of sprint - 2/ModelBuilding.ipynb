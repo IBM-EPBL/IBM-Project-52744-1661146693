{
  "nbformat": 4,
  "nbformat_minor": 0,
  "metadata": {
    "colab": {
      "provenance": [],
      "collapsed_sections": []
    },
    "kernelspec": {
      "name": "python3",
      "display_name": "Python 3"
    },
    "language_info": {
      "name": "python"
    }
  },
  "cells": [
    {
      "cell_type": "code",
      "execution_count": null,
      "metadata": {
        "id": "Ls3kXYkjcEto"
      },
      "outputs": [],
      "source": [
        "#Image Augmentation\n",
        "from tensorflow.keras.preprocessing.image import ImageDataGenerator\n",
        "rain_datagen = ImageDataGenerator(rescale=1./255,\n",
        "                                   zoom_range=0.2,\n",
        "                                   horizontal_flip=True)"
      ]
    },
    {
      "cell_type": "code",
      "source": [
        "#Create Model\n",
        "#Importing req library\n",
        "from tensorflow.keras.models import Sequential\n",
        "from tensorflow.keras.layers import Convolution2D, MaxPooling2D, Flatten, Dense\n"
      ],
      "metadata": {
        "id": "PzhjegmfcOhY"
      },
      "execution_count": null,
      "outputs": []
    },
    {
      "cell_type": "code",
      "source": [
        "#Add Layers\n",
        "model = Sequential() # Initializing sequential model\n",
        "model.add(Convolution2D(32,(3,3),activation='relu',input_shape=(64,64,3))) # convolution layer\n",
        "model.add(MaxPooling2D(pool_size=(2, 2))) # Max pooling layer\n",
        "model.add(Flatten()) # Flatten layer\n",
        "model.add(Dense(300,activation='relu')) # Hidden layer 1\n",
        "model.add(Dense(150,activation='relu')) # Hidden layer 2\n",
        "model.add(Dense(4,activation='softmax')) # Output layer"
      ],
      "metadata": {
        "id": "vyKUdQHAcXjG"
      },
      "execution_count": null,
      "outputs": []
    },
    {
      "cell_type": "code",
      "source": [
        "#Compile the model\n",
        "model.compile(optimizer='adam',loss='categorical_crossentropy',metrics=['accuracy'])"
      ],
      "metadata": {
        "id": "15NqUCZUcmpk"
      },
      "execution_count": null,
      "outputs": []
    },
    {
      "cell_type": "code",
      "source": [
        "#Save the model\n",
        "model.save('Nutrients.h5')"
      ],
      "metadata": {
        "id": "8wU28d11cpFw"
      },
      "execution_count": null,
      "outputs": []
    },
    {
      "cell_type": "code",
      "source": [
        "#Test the model\n",
        "#Testing 1\n",
        "from tensorflow.keras.preprocessing import image\n",
        "import numpy as np\n",
        "img = image.load_img('/content/Image_4.jpg',target_size=(64,64)) # Reading image\n",
        "x = image.img_to_array(img) \n",
        "x = np.expand_dims(x,axis=0) \n",
        "pred = np.argmax(model.predict(x)) \n",
        "op = ['Apple Nutrients: 95 calories, 0 gram fat, 1 gram protein, 25 grams carbohydrate, 19 grams sugar (naturally occurring), and 3 grams fiber.','Beetroot Nutrients:Calories:43, water: 88%, Protein: 1.6 grams', 'Carrot Nutrients: Calories:41, Protein:0.9gram','Lemon Nutrients: Calories:29, Protein:1.1gram'] \n",
        "op[pred] \n"
      ],
      "metadata": {
        "colab": {
          "base_uri": "https://localhost:8080/",
          "height": 53
        },
        "id": "YqYUzfJWct82",
        "outputId": "eb5c1bcc-cc39-4b38-f33d-1ff5d568c2e2"
      },
      "execution_count": null,
      "outputs": [
        {
          "output_type": "stream",
          "name": "stdout",
          "text": [
            "1/1 [==============================] - 0s 19ms/step\n"
          ]
        },
        {
          "output_type": "execute_result",
          "data": {
            "text/plain": [
              "'Beetroot Nutrients:Calories:43, water: 88%, Protein: 1.6 grams'"
            ],
            "application/vnd.google.colaboratory.intrinsic+json": {
              "type": "string"
            }
          },
          "metadata": {},
          "execution_count": 7
        }
      ]
    },
    {
      "cell_type": "code",
      "source": [
        "#Test the model\n",
        "#Testing 2\n",
        "from tensorflow.keras.preprocessing import image\n",
        "import numpy as np\n",
        "img = image.load_img('/content/Image_3.jpg',target_size=(64,64)) # Reading image\n",
        "x = image.img_to_array(img) \n",
        "x = np.expand_dims(x,axis=0) \n",
        "pred = np.argmax(model.predict(x)) \n",
        "op = ['Apple Nutrients: 95 calories, 0 gram fat, 1 gram protein, 25 grams carbohydrate, 19 grams sugar (naturally occurring), and 3 grams fiber.','Beetroot Nutrients:Calories:43, water: 88%, Protein: 1.6 grams', 'Carrot Nutrients: Calories:41, Protein:0.9gram','Lemon Nutrients: Calories:29, Protein:1.1gram'] \n",
        "op[pred] \n"
      ],
      "metadata": {
        "colab": {
          "base_uri": "https://localhost:8080/",
          "height": 53
        },
        "id": "BYIHxNl0es6z",
        "outputId": "3eded0bd-3a17-4c78-bcc4-c4fa4c2100ec"
      },
      "execution_count": null,
      "outputs": [
        {
          "output_type": "stream",
          "name": "stdout",
          "text": [
            "1/1 [==============================] - 0s 18ms/step\n"
          ]
        },
        {
          "output_type": "execute_result",
          "data": {
            "text/plain": [
              "'Carrot Nutrients: Calories:41, Protein:0.9gram'"
            ],
            "application/vnd.google.colaboratory.intrinsic+json": {
              "type": "string"
            }
          },
          "metadata": {},
          "execution_count": 8
        }
      ]
    }
  ]
}